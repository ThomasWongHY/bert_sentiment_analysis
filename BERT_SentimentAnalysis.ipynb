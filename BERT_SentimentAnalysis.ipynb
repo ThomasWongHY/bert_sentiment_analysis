{
  "cells": [
    {
      "cell_type": "code",
      "execution_count": 26,
      "metadata": {
        "id": "eYS6AO_VMido"
      },
      "outputs": [],
      "source": [
        "# Please install any missing dependencies before running the script.\n",
        "# !pip3 install evaluate"
      ]
    },
    {
      "cell_type": "code",
      "execution_count": 27,
      "metadata": {
        "id": "ynNoBAeMMidp"
      },
      "outputs": [],
      "source": [
        "import pandas as pd\n",
        "import numpy as np\n",
        "import matplotlib.pyplot as plt\n",
        "import seaborn as sns\n",
        "\n",
        "from datasets import Dataset\n",
        "import evaluate\n",
        "\n",
        "from sklearn.model_selection import train_test_split\n",
        "from transformers import BertTokenizer, BertForSequenceClassification, TrainingArguments, Trainer\n",
        "import torch"
      ]
    },
    {
      "cell_type": "code",
      "execution_count": 28,
      "metadata": {
        "colab": {
          "base_uri": "https://localhost:8080/",
          "height": 424
        },
        "id": "cRQpRyPnMidq",
        "outputId": "316c700d-1e41-4af6-8564-61f38f078097"
      },
      "outputs": [
        {
          "data": {
            "text/html": [
              "<div>\n",
              "<style scoped>\n",
              "    .dataframe tbody tr th:only-of-type {\n",
              "        vertical-align: middle;\n",
              "    }\n",
              "\n",
              "    .dataframe tbody tr th {\n",
              "        vertical-align: top;\n",
              "    }\n",
              "\n",
              "    .dataframe thead th {\n",
              "        text-align: right;\n",
              "    }\n",
              "</style>\n",
              "<table border=\"1\" class=\"dataframe\">\n",
              "  <thead>\n",
              "    <tr style=\"text-align: right;\">\n",
              "      <th></th>\n",
              "      <th>overall</th>\n",
              "      <th>verified</th>\n",
              "      <th>reviewerID</th>\n",
              "      <th>asin</th>\n",
              "      <th>reviewText</th>\n",
              "    </tr>\n",
              "  </thead>\n",
              "  <tbody>\n",
              "    <tr>\n",
              "      <th>0</th>\n",
              "      <td>5</td>\n",
              "      <td>True</td>\n",
              "      <td>A1JB7HFWHRYHT7</td>\n",
              "      <td>B0000223SI</td>\n",
              "      <td>This worked really well for what I used it for...</td>\n",
              "    </tr>\n",
              "    <tr>\n",
              "      <th>1</th>\n",
              "      <td>5</td>\n",
              "      <td>True</td>\n",
              "      <td>A2FCLJG5GV8SD6</td>\n",
              "      <td>B0000223SI</td>\n",
              "      <td>Fast cutting and good adheasive.</td>\n",
              "    </tr>\n",
              "    <tr>\n",
              "      <th>2</th>\n",
              "      <td>5</td>\n",
              "      <td>False</td>\n",
              "      <td>A3IT9B33NWYQSL</td>\n",
              "      <td>B0000223SI</td>\n",
              "      <td>Worked great for my lapping bench.  I would li...</td>\n",
              "    </tr>\n",
              "    <tr>\n",
              "      <th>3</th>\n",
              "      <td>4</td>\n",
              "      <td>True</td>\n",
              "      <td>AUL5LCV4TT73P</td>\n",
              "      <td>B0000223SK</td>\n",
              "      <td>As advertised</td>\n",
              "    </tr>\n",
              "    <tr>\n",
              "      <th>4</th>\n",
              "      <td>5</td>\n",
              "      <td>True</td>\n",
              "      <td>A1V3I3L5JKO7TM</td>\n",
              "      <td>B0000223SK</td>\n",
              "      <td>seems like a pretty good value as opposed to b...</td>\n",
              "    </tr>\n",
              "    <tr>\n",
              "      <th>...</th>\n",
              "      <td>...</td>\n",
              "      <td>...</td>\n",
              "      <td>...</td>\n",
              "      <td>...</td>\n",
              "      <td>...</td>\n",
              "    </tr>\n",
              "    <tr>\n",
              "      <th>77066</th>\n",
              "      <td>5</td>\n",
              "      <td>True</td>\n",
              "      <td>A1UZ9AVZFWZS1A</td>\n",
              "      <td>B01HCVJ3K2</td>\n",
              "      <td>So far it has worked like a champ. Great solut...</td>\n",
              "    </tr>\n",
              "    <tr>\n",
              "      <th>77067</th>\n",
              "      <td>5</td>\n",
              "      <td>True</td>\n",
              "      <td>A1PMSQXD43WIS4</td>\n",
              "      <td>B01HCVJ3K2</td>\n",
              "      <td>Great quality solid state relay. I used this s...</td>\n",
              "    </tr>\n",
              "    <tr>\n",
              "      <th>77068</th>\n",
              "      <td>5</td>\n",
              "      <td>True</td>\n",
              "      <td>A225WHD7XZVIXL</td>\n",
              "      <td>B01HEQVQAK</td>\n",
              "      <td>Came with everything needed to install in my M...</td>\n",
              "    </tr>\n",
              "    <tr>\n",
              "      <th>77069</th>\n",
              "      <td>5</td>\n",
              "      <td>True</td>\n",
              "      <td>A3T05FOORNQI18</td>\n",
              "      <td>B01HEQVQAK</td>\n",
              "      <td>Installed a month ago in my Monoprice Maker Se...</td>\n",
              "    </tr>\n",
              "    <tr>\n",
              "      <th>77070</th>\n",
              "      <td>5</td>\n",
              "      <td>True</td>\n",
              "      <td>ACJI9OBN1EZ03</td>\n",
              "      <td>B01HEQVQAK</td>\n",
              "      <td>This releaves the mothere board of the current...</td>\n",
              "    </tr>\n",
              "  </tbody>\n",
              "</table>\n",
              "<p>77071 rows × 5 columns</p>\n",
              "</div>"
            ],
            "text/plain": [
              "       overall  verified      reviewerID        asin  \\\n",
              "0            5      True  A1JB7HFWHRYHT7  B0000223SI   \n",
              "1            5      True  A2FCLJG5GV8SD6  B0000223SI   \n",
              "2            5     False  A3IT9B33NWYQSL  B0000223SI   \n",
              "3            4      True   AUL5LCV4TT73P  B0000223SK   \n",
              "4            5      True  A1V3I3L5JKO7TM  B0000223SK   \n",
              "...        ...       ...             ...         ...   \n",
              "77066        5      True  A1UZ9AVZFWZS1A  B01HCVJ3K2   \n",
              "77067        5      True  A1PMSQXD43WIS4  B01HCVJ3K2   \n",
              "77068        5      True  A225WHD7XZVIXL  B01HEQVQAK   \n",
              "77069        5      True  A3T05FOORNQI18  B01HEQVQAK   \n",
              "77070        5      True   ACJI9OBN1EZ03  B01HEQVQAK   \n",
              "\n",
              "                                              reviewText  \n",
              "0      This worked really well for what I used it for...  \n",
              "1                       Fast cutting and good adheasive.  \n",
              "2      Worked great for my lapping bench.  I would li...  \n",
              "3                                          As advertised  \n",
              "4      seems like a pretty good value as opposed to b...  \n",
              "...                                                  ...  \n",
              "77066  So far it has worked like a champ. Great solut...  \n",
              "77067  Great quality solid state relay. I used this s...  \n",
              "77068  Came with everything needed to install in my M...  \n",
              "77069  Installed a month ago in my Monoprice Maker Se...  \n",
              "77070  This releaves the mothere board of the current...  \n",
              "\n",
              "[77071 rows x 5 columns]"
            ]
          },
          "execution_count": 28,
          "metadata": {},
          "output_type": "execute_result"
        }
      ],
      "source": [
        "df = pd.read_json(\"./Industrial_and_Scientific_5.json.gz\", lines=True)\n",
        "\n",
        "# Unnecessary Columns: reviewTime, style, reviewerName, unixReviewTime, image, vote\n",
        "df = df.drop([\"reviewTime\", \"style\", \"reviewerName\", \"unixReviewTime\", \"image\", \"summary\", \"vote\"], axis=1)\n",
        "\n",
        "df"
      ]
    },
    {
      "cell_type": "markdown",
      "metadata": {
        "id": "nIGdkIKTMidr"
      },
      "source": [
        "# Data Exploration"
      ]
    },
    {
      "cell_type": "code",
      "execution_count": 29,
      "metadata": {
        "colab": {
          "base_uri": "https://localhost:8080/"
        },
        "id": "ISTKVWYBMidr",
        "outputId": "a2d8818b-ad23-4c2b-9e31-21a2a7ff3543"
      },
      "outputs": [
        {
          "name": "stdout",
          "output_type": "stream",
          "text": [
            "overall        0\n",
            "verified       0\n",
            "reviewerID     0\n",
            "asin           0\n",
            "reviewText    11\n",
            "dtype: int64\n",
            "Counts:\n",
            "overall       77060\n",
            "verified      77060\n",
            "reviewerID    77060\n",
            "asin          77060\n",
            "reviewText    77060\n",
            "dtype: int64 \n",
            "\n",
            "Averages:\n",
            "overall     4.524046\n",
            "verified    0.920257\n",
            "dtype: float64 \n",
            "\n",
            "Medians:\n",
            "overall     5.0\n",
            "verified    1.0\n",
            "dtype: float64 \n",
            "\n",
            "Modes:\n",
            "overall        5\n",
            "verified    True\n",
            "Name: 0, dtype: object \n",
            "\n"
          ]
        }
      ],
      "source": [
        "# Handle missing values\n",
        "print(df.isna().sum())\n",
        "df.dropna(subset=['reviewText'], inplace=True)\n",
        "\n",
        "# Explore data stats\n",
        "print('Counts:')\n",
        "print(df.count(), '\\n')\n",
        "print('Averages:')\n",
        "print(df.mean(numeric_only=True), '\\n')\n",
        "print('Medians:')\n",
        "print(df.median(numeric_only=True), '\\n')\n",
        "print('Modes:')\n",
        "print(df.mode(numeric_only=True).iloc[0], '\\n')"
      ]
    },
    {
      "cell_type": "code",
      "execution_count": 30,
      "metadata": {
        "colab": {
          "base_uri": "https://localhost:8080/",
          "height": 410
        },
        "id": "TYak09riMidr",
        "outputId": "c35f5bbe-f9b2-41f2-a273-125f18d89bd1"
      },
      "outputs": [
        {
          "name": "stdout",
          "output_type": "stream",
          "text": [
            "Number of reviews for each rating in the sample:\n",
            "1     2481\n",
            "2     1936\n",
            "3     4442\n",
            "4    12061\n",
            "5    56140\n",
            "Name: overall, dtype: int64\n"
          ]
        },
        {
          "data": {
            "image/png": "[encoded data removed]",
            "text/plain": [
              "<Figure size 600x400 with 1 Axes>"
            ]
          },
          "metadata": {},
          "output_type": "display_data"
        }
      ],
      "source": [
        "# Display distribution of the number of reviews across products\n",
        "reviews_per_ratings = df.groupby('overall')['asin'].count()\n",
        "\n",
        "review_counts = df['overall'].value_counts().sort_index()\n",
        "print(\"Number of reviews for each rating in the sample:\")\n",
        "print(review_counts)\n",
        "\n",
        "plt.figure(figsize=(6, 4))\n",
        "plt.bar(reviews_per_ratings.index, reviews_per_ratings.values, color='skyblue')\n",
        "plt.xlabel('Ratings')\n",
        "plt.ylabel('Number of Products')\n",
        "plt.title('Distribution of Number of Reviews')\n",
        "plt.show()"
      ]
    },
    {
      "cell_type": "code",
      "execution_count": 31,
      "metadata": {
        "colab": {
          "base_uri": "https://localhost:8080/"
        },
        "id": "ZvfPyIMbMids",
        "outputId": "33d47e88-cc87-406d-cd16-f4b55c059b60"
      },
      "outputs": [
        {
          "name": "stdout",
          "output_type": "stream",
          "text": [
            "overall     1  2  3   4   5  total_reviews\n",
            "asin                                      \n",
            "B0000223SI  0  0  0   1  12             13\n",
            "B0000223SK  0  0  1   5  16             22\n",
            "B0000223UV  1  0  2  10  24             37\n",
            "B00002246J  0  0  1   6   9             16\n",
            "B0000224J0  0  0  0   1  14             15\n",
            "...        .. .. ..  ..  ..            ...\n",
            "B01HCQSHNG  1  0  3   1   2              7\n",
            "B01HCVJ3K2  0  0  0   1  23             24\n",
            "B01HDXZR5E  1  0  0   3  13             17\n",
            "B01HDYEAOW  0  0  0   0   5              5\n",
            "B01HEQVQAK  0  0  0   3   6              9\n",
            "\n",
            "[5334 rows x 6 columns]\n",
            "overall               1  2  3  4   5  total_reviews\n",
            "reviewerID                                         \n",
            "A0096681Y127OL1H8W3U  0  0  0  0   5              5\n",
            "A0196552RI15HI7JB9PW  0  0  0  0   5              5\n",
            "A0289048PRWFY7ZXQKCD  0  0  2  7   0              9\n",
            "A0455940O5EUXQDU46QL  0  0  1  2   4              7\n",
            "A07936821FOVJO6NP4Q8  0  0  3  1   6             10\n",
            "...                  .. .. .. ..  ..            ...\n",
            "AZXS6P5QWNMLC         0  0  2  2   2              6\n",
            "AZY0M1ANDSEPL         0  0  0  0   5              5\n",
            "AZYIBG912W011         0  0  0  0   7              7\n",
            "AZYPAWSYSCISH         1  0  0  0  10             11\n",
            "AZZGB87A5N9QI         0  0  1  0   4              5\n",
            "\n",
            "[11041 rows x 6 columns]\n"
          ]
        }
      ],
      "source": [
        "# Distribution of the number of reviews per product\n",
        "reviews_per_product = df.groupby(['asin', 'overall']).size().unstack(fill_value=0)\n",
        "reviews_per_product['total_reviews'] = reviews_per_product.sum(axis=1)\n",
        "print(reviews_per_product)\n",
        "\n",
        "# Distribution of reviews per user\n",
        "reviews_per_user = df.groupby(['reviewerID', 'overall']).size().unstack(fill_value=0)\n",
        "reviews_per_user['total_reviews'] = reviews_per_user.sum(axis=1)\n",
        "print(reviews_per_user)"
      ]
    },
    {
      "cell_type": "code",
      "execution_count": 32,
      "metadata": {
        "colab": {
          "base_uri": "https://localhost:8080/",
          "height": 1000
        },
        "id": "lLVg0FSZMids",
        "outputId": "8cc0d471-cb4a-4d6a-99b5-89bd5cf65dad"
      },
      "outputs": [
        {
          "data": {
            "image/png": "[encoded data removed]",
            "text/plain": [
              "<Figure size 1000x600 with 1 Axes>"
            ]
          },
          "metadata": {},
          "output_type": "display_data"
        },
        {
          "data": {
            "image/png": "[encoded data removed]",
            "text/plain": [
              "<Figure size 1000x600 with 1 Axes>"
            ]
          },
          "metadata": {},
          "output_type": "display_data"
        }
      ],
      "source": [
        "# Check outliners\n",
        "df['review_length'] = df['reviewText'].apply(lambda x: len(x))\n",
        "\n",
        "plt.figure(figsize=(10, 6))\n",
        "plt.boxplot(df['review_length'], vert=False)\n",
        "plt.title('Box Plot of Review Lengths')\n",
        "plt.xlabel('Review Length')\n",
        "plt.grid(True)\n",
        "plt.show()\n",
        "\n",
        "# Display length of review without outliner\n",
        "plt.figure(figsize=(10, 6))\n",
        "plt.boxplot(df['review_length'], vert=False, showfliers=False)\n",
        "plt.title('Review Lengths without Outliners')\n",
        "plt.xlabel('Review Length')\n",
        "plt.grid(True)\n",
        "plt.show()"
      ]
    },
    {
      "cell_type": "code",
      "execution_count": 33,
      "metadata": {
        "colab": {
          "base_uri": "https://localhost:8080/"
        },
        "id": "l02Dzj1mMids",
        "outputId": "6b40a485-9114-4f1f-fcb2-d07ca8edda36"
      },
      "outputs": [
        {
          "name": "stdout",
          "output_type": "stream",
          "text": [
            "Descriptive Statistics of Review Length:\n",
            "count    77060.000000\n",
            "mean       241.052232\n",
            "std        558.087584\n",
            "min          1.000000\n",
            "25%         30.000000\n",
            "50%         95.000000\n",
            "75%        247.000000\n",
            "max      32184.000000\n",
            "Name: review_length, dtype: float64\n",
            "There are 18730 duplicate rows in the dataset.\n",
            "11       This stuff is great. Adhesive on the back and ...\n",
            "24       As a hobbyist, I frequently need to sand the s...\n",
            "29       I have been using this all week with a sanding...\n",
            "68       \"Gorilla Glue\" has become one of the most used...\n",
            "69       \"Gorilla Glue\" has become one of the most used...\n",
            "                               ...                        \n",
            "77038                                            It works.\n",
            "77045    I find this PLA to be on par with Polymaker's ...\n",
            "77049                                           good price\n",
            "77052                                           Great item\n",
            "77053                                  Great for the price\n",
            "Name: reviewText, Length: 18730, dtype: object\n",
            "Drop Duplicates\n",
            "There are 0 duplicate rows in the dataset.\n"
          ]
        }
      ],
      "source": [
        "# Analyze lengths\n",
        "print(\"Descriptive Statistics of Review Length:\")\n",
        "print(df['review_length'].describe())\n",
        "\n",
        "# Check for duplicates\n",
        "df_review = df[\"reviewText\"]\n",
        "duplicate_rows = df_review.duplicated()\n",
        "num_duplicates = duplicate_rows.sum()\n",
        "duplicate_data = df_review[duplicate_rows]\n",
        "print(\"There are\", num_duplicates, \"duplicate rows in the dataset.\")\n",
        "print(duplicate_data)\n",
        "\n",
        "print(\"Drop Duplicates\")\n",
        "df.drop_duplicates(subset=['reviewText'], inplace=True)\n",
        "num_duplicates = df.duplicated().sum()\n",
        "print(\"There are\", num_duplicates, \"duplicate rows in the dataset.\")"
      ]
    },
    {
      "cell_type": "code",
      "execution_count": 34,
      "metadata": {
        "colab": {
          "base_uri": "https://localhost:8080/",
          "height": 410
        },
        "id": "DhqeV2dsMids",
        "outputId": "5236be7d-8196-4c3b-a4a2-8d827e29433e"
      },
      "outputs": [
        {
          "data": {
            "image/png": "[encoded data removed]",
            "text/plain": [
              "<Figure size 600x400 with 1 Axes>"
            ]
          },
          "metadata": {},
          "output_type": "display_data"
        }
      ],
      "source": [
        "# Verified vs Unverified reviews analysis\n",
        "verified_counts = df['verified'].value_counts()\n",
        "plt.figure(figsize=(6, 4))\n",
        "verified_counts.plot(kind='bar', color='skyblue')\n",
        "plt.title('Verified vs Unverified Reviews')\n",
        "plt.xlabel('Verification')\n",
        "plt.ylabel('Number of Reviews')\n",
        "plt.xticks(ticks=[0, 1], labels=['Unverified', 'Verified'], rotation=0)\n",
        "plt.show()"
      ]
    },
    {
      "cell_type": "markdown",
      "metadata": {
        "id": "fHFRx_d-Midt"
      },
      "source": [
        "# Data Preprocessing"
      ]
    },
    {
      "cell_type": "markdown",
      "metadata": {},
      "source": [
        "## Outlier Removal"
      ]
    },
    {
      "cell_type": "code",
      "execution_count": 35,
      "metadata": {
        "colab": {
          "base_uri": "https://localhost:8080/",
          "height": 1000
        },
        "id": "0vAV8rpbMidt",
        "outputId": "71cd74cf-f26b-4687-8d5d-1079bd5c8c4d"
      },
      "outputs": [
        {
          "name": "stdout",
          "output_type": "stream",
          "text": [
            "(52855, 6)\n"
          ]
        },
        {
          "data": {
            "image/png": "[encoded data removed]",
            "text/plain": [
              "<Figure size 1000x600 with 1 Axes>"
            ]
          },
          "metadata": {},
          "output_type": "display_data"
        },
        {
          "data": {
            "image/png": "[encoded data removed]",
            "text/plain": [
              "<Figure size 640x480 with 1 Axes>"
            ]
          },
          "metadata": {},
          "output_type": "display_data"
        }
      ],
      "source": [
        "# Outlier Removal using IQR method\n",
        "Q1 = df['review_length'].quantile(0.25)\n",
        "Q3 = df['review_length'].quantile(0.75)\n",
        "IQR = Q3 - Q1\n",
        "\n",
        "lower_bound = Q1 - 1.5 * IQR\n",
        "upper_bound = Q3 + 1.5 * IQR\n",
        "df = df[(df['review_length'] >= lower_bound) & (df['review_length'] <= upper_bound)]\n",
        "print(df.shape)\n",
        "\n",
        "plt.figure(figsize=(10, 6))\n",
        "plt.boxplot(df['review_length'], vert=False)\n",
        "plt.title('Box Plot of Review Lengths')\n",
        "plt.xlabel('Review Length')\n",
        "plt.grid(True)\n",
        "plt.show()\n",
        "\n",
        "sns.boxplot(x='overall', y='review_length', data=df)\n",
        "plt.title('Boxplot of Review Length for Each Rating (Outliers Removed)')\n",
        "plt.show()"
      ]
    },
    {
      "cell_type": "markdown",
      "metadata": {},
      "source": [
        "## Data Transformation"
      ]
    },
    {
      "cell_type": "code",
      "execution_count": 36,
      "metadata": {},
      "outputs": [
        {
          "name": "stderr",
          "output_type": "stream",
          "text": [
            "/var/folders/7z/m8630rps50j_2c9t_zhzgj6w0000gn/T/ipykernel_55706/1810583349.py:1: SettingWithCopyWarning: \n",
            "A value is trying to be set on a copy of a slice from a DataFrame.\n",
            "Try using .loc[row_indexer,col_indexer] = value instead\n",
            "\n",
            "See the caveats in the documentation: https://pandas.pydata.org/pandas-docs/stable/user_guide/indexing.html#returning-a-view-versus-a-copy\n",
            "  df['overall'] = df['overall'].replace({1: 0,\n"
          ]
        },
        {
          "data": {
            "text/plain": [
              "{0, 1, 2}"
            ]
          },
          "execution_count": 36,
          "metadata": {},
          "output_type": "execute_result"
        }
      ],
      "source": [
        "df['overall'] = df['overall'].replace({1: 0, \n",
        "                                       2: 0, \n",
        "                                       3: 1, \n",
        "                                       4: 2, \n",
        "                                       5: 2})\n",
        "set(df['overall'])"
      ]
    },
    {
      "cell_type": "markdown",
      "metadata": {},
      "source": [
        "## Random Sampling"
      ]
    },
    {
      "cell_type": "code",
      "execution_count": 37,
      "metadata": {},
      "outputs": [],
      "source": [
        "df_sample = df.sample(n=1000, random_state=2024)\n",
        "df_sample = df_sample[['reviewText', 'overall']]\n",
        "df_train, df_val = train_test_split(df_sample, test_size=0.1, random_state=42)\n",
        "\n",
        "test_df = df[~df.index.isin(df_sample.index)]\n",
        "test_df_sample = test_df.sample(n=1000, random_state=2024)\n",
        "df_test = test_df_sample[['reviewText', 'overall']]"
      ]
    },
    {
      "cell_type": "markdown",
      "metadata": {},
      "source": [
        "## Tokenization"
      ]
    },
    {
      "cell_type": "code",
      "execution_count": 38,
      "metadata": {},
      "outputs": [
        {
          "name": "stdout",
          "output_type": "stream",
          "text": [
            "tensor([1.], device='mps:0')\n"
          ]
        }
      ],
      "source": [
        "if torch.backends.mps.is_available():\n",
        "    mps_device = torch.device(\"mps\")\n",
        "    x = torch.ones(1, device=mps_device)\n",
        "    print (x)\n",
        "else:\n",
        "    print (\"MPS device not found.\")"
      ]
    },
    {
      "cell_type": "code",
      "execution_count": 39,
      "metadata": {},
      "outputs": [
        {
          "data": {
            "application/vnd.jupyter.widget-view+json": {
              "model_id": "b9c435c8936446d99b3373d0d2eef014",
              "version_major": 2,
              "version_minor": 0
            },
            "text/plain": [
              "Map:   0%|          | 0/900 [00:00<?, ? examples/s]"
            ]
          },
          "metadata": {},
          "output_type": "display_data"
        },
        {
          "data": {
            "application/vnd.jupyter.widget-view+json": {
              "model_id": "6b0e9a26dc0f44f99222547e7b07448d",
              "version_major": 2,
              "version_minor": 0
            },
            "text/plain": [
              "Map:   0%|          | 0/100 [00:00<?, ? examples/s]"
            ]
          },
          "metadata": {},
          "output_type": "display_data"
        },
        {
          "data": {
            "application/vnd.jupyter.widget-view+json": {
              "model_id": "9d7f375ef8854f34a06749a12ab6d56f",
              "version_major": 2,
              "version_minor": 0
            },
            "text/plain": [
              "Map:   0%|          | 0/1000 [00:00<?, ? examples/s]"
            ]
          },
          "metadata": {},
          "output_type": "display_data"
        }
      ],
      "source": [
        "tokenizer = BertTokenizer.from_pretrained('bert-base-uncased')\n",
        "\n",
        "def tokenize(batch):\n",
        "    tokenized_inputs = tokenizer(batch['reviewText'], padding=True, truncation=True, max_length=128, return_tensors='pt')\n",
        "    tokenized_inputs[\"labels\"] = torch.tensor(batch['overall'])\n",
        "    return tokenized_inputs\n",
        "\n",
        "train_dataset = Dataset.from_pandas(df_train).map(tokenize, batched=True)\n",
        "val_dataset = Dataset.from_pandas(df_val).map(tokenize, batched=True)\n",
        "test_dataset = Dataset.from_pandas(df_test).map(tokenize, batched=True)\n",
        "\n",
        "train_dataset.set_format('torch', columns=['input_ids', 'attention_mask', 'labels'])\n",
        "val_dataset.set_format('torch', columns=['input_ids', 'attention_mask', 'labels'])\n",
        "test_dataset.set_format('torch', columns=['input_ids', 'attention_mask', 'labels'])"
      ]
    },
    {
      "cell_type": "markdown",
      "metadata": {},
      "source": [
        "# Model Fine-Tuning"
      ]
    },
    {
      "cell_type": "code",
      "execution_count": 40,
      "metadata": {},
      "outputs": [
        {
          "name": "stderr",
          "output_type": "stream",
          "text": [
            "Some weights of BertForSequenceClassification were not initialized from the model checkpoint at bert-base-uncased and are newly initialized: ['classifier.bias', 'classifier.weight']\n",
            "You should probably TRAIN this model on a down-stream task to be able to use it for predictions and inference.\n"
          ]
        },
        {
          "data": {
            "text/plain": [
              "BertForSequenceClassification(\n",
              "  (bert): BertModel(\n",
              "    (embeddings): BertEmbeddings(\n",
              "      (word_embeddings): Embedding(30522, 768, padding_idx=0)\n",
              "      (position_embeddings): Embedding(512, 768)\n",
              "      (token_type_embeddings): Embedding(2, 768)\n",
              "      (LayerNorm): LayerNorm((768,), eps=1e-12, elementwise_affine=True)\n",
              "      (dropout): Dropout(p=0.1, inplace=False)\n",
              "    )\n",
              "    (encoder): BertEncoder(\n",
              "      (layer): ModuleList(\n",
              "        (0-11): 12 x BertLayer(\n",
              "          (attention): BertAttention(\n",
              "            (self): BertSelfAttention(\n",
              "              (query): Linear(in_features=768, out_features=768, bias=True)\n",
              "              (key): Linear(in_features=768, out_features=768, bias=True)\n",
              "              (value): Linear(in_features=768, out_features=768, bias=True)\n",
              "              (dropout): Dropout(p=0.1, inplace=False)\n",
              "            )\n",
              "            (output): BertSelfOutput(\n",
              "              (dense): Linear(in_features=768, out_features=768, bias=True)\n",
              "              (LayerNorm): LayerNorm((768,), eps=1e-12, elementwise_affine=True)\n",
              "              (dropout): Dropout(p=0.1, inplace=False)\n",
              "            )\n",
              "          )\n",
              "          (intermediate): BertIntermediate(\n",
              "            (dense): Linear(in_features=768, out_features=3072, bias=True)\n",
              "            (intermediate_act_fn): GELUActivation()\n",
              "          )\n",
              "          (output): BertOutput(\n",
              "            (dense): Linear(in_features=3072, out_features=768, bias=True)\n",
              "            (LayerNorm): LayerNorm((768,), eps=1e-12, elementwise_affine=True)\n",
              "            (dropout): Dropout(p=0.1, inplace=False)\n",
              "          )\n",
              "        )\n",
              "      )\n",
              "    )\n",
              "    (pooler): BertPooler(\n",
              "      (dense): Linear(in_features=768, out_features=768, bias=True)\n",
              "      (activation): Tanh()\n",
              "    )\n",
              "  )\n",
              "  (dropout): Dropout(p=0.1, inplace=False)\n",
              "  (classifier): Linear(in_features=768, out_features=3, bias=True)\n",
              ")"
            ]
          },
          "execution_count": 40,
          "metadata": {},
          "output_type": "execute_result"
        }
      ],
      "source": [
        "model = BertForSequenceClassification.from_pretrained(\n",
        "    'bert-base-uncased',\n",
        "    num_labels=len(np.unique(df['overall']))\n",
        ")\n",
        "\n",
        "model.to(mps_device)"
      ]
    },
    {
      "cell_type": "code",
      "execution_count": 41,
      "metadata": {},
      "outputs": [],
      "source": [
        "from sklearn.metrics import accuracy_score, precision_score, recall_score, f1_score\n",
        "\n",
        "metric = evaluate.load(\"accuracy\")\n",
        "\n",
        "def compute_metrics(pred):\n",
        "    logits, labels = pred\n",
        "    preds = np.argmax(logits, axis=-1)\n",
        "    \n",
        "    # Compute accuracy\n",
        "    accuracy = accuracy_score(labels, preds)\n",
        "    \n",
        "    # Compute precision, recall, and F1-score\n",
        "    macro_precision = precision_score(labels, preds, average='macro')\n",
        "    macro_recall = recall_score(labels, preds, average='macro')\n",
        "    macro_f1 = f1_score(labels, preds, average='macro')\n",
        "    \n",
        "    return {\n",
        "        \"accuracy\": accuracy,\n",
        "        \"precision\": macro_precision,\n",
        "        \"recall\": macro_recall,\n",
        "        \"f1_score\": macro_f1\n",
        "    }\n",
        "\n",
        "training_args = TrainingArguments(output_dir=\"test_trainer\", evaluation_strategy=\"epoch\")"
      ]
    },
    {
      "cell_type": "code",
      "execution_count": 42,
      "metadata": {},
      "outputs": [
        {
          "data": {
            "application/vnd.jupyter.widget-view+json": {
              "model_id": "d5c5ecde7b85496b8bbaba4f6f3768a5",
              "version_major": 2,
              "version_minor": 0
            },
            "text/plain": [
              "  0%|          | 0/339 [00:00<?, ?it/s]"
            ]
          },
          "metadata": {},
          "output_type": "display_data"
        },
        {
          "data": {
            "application/vnd.jupyter.widget-view+json": {
              "model_id": "cf66c1d539444ddca7fcbb7cbfde4072",
              "version_major": 2,
              "version_minor": 0
            },
            "text/plain": [
              "  0%|          | 0/13 [00:00<?, ?it/s]"
            ]
          },
          "metadata": {},
          "output_type": "display_data"
        },
        {
          "name": "stderr",
          "output_type": "stream",
          "text": [
            "/Library/Frameworks/Python.framework/Versions/3.11/lib/python3.11/site-packages/sklearn/metrics/_classification.py:1344: UndefinedMetricWarning: Precision is ill-defined and being set to 0.0 in labels with no predicted samples. Use `zero_division` parameter to control this behavior.\n",
            "  _warn_prf(average, modifier, msg_start, len(result))\n"
          ]
        },
        {
          "name": "stdout",
          "output_type": "stream",
          "text": [
            "{'eval_loss': 0.4111839234828949, 'eval_accuracy': 0.86, 'eval_precision': 0.463768115942029, 'eval_recall': 0.4466089466089466, 'eval_f1_score': 0.45095693779904306, 'eval_runtime': 1.0111, 'eval_samples_per_second': 98.905, 'eval_steps_per_second': 12.858, 'epoch': 1.0}\n"
          ]
        },
        {
          "data": {
            "application/vnd.jupyter.widget-view+json": {
              "model_id": "e54b945c5ac1457993c493ee5cc55496",
              "version_major": 2,
              "version_minor": 0
            },
            "text/plain": [
              "  0%|          | 0/13 [00:00<?, ?it/s]"
            ]
          },
          "metadata": {},
          "output_type": "display_data"
        },
        {
          "name": "stdout",
          "output_type": "stream",
          "text": [
            "{'eval_loss': 0.3106771409511566, 'eval_accuracy': 0.87, 'eval_precision': 0.5189393939393939, 'eval_recall': 0.4769119769119769, 'eval_f1_score': 0.49326805385556916, 'eval_runtime': 0.9815, 'eval_samples_per_second': 101.883, 'eval_steps_per_second': 13.245, 'epoch': 2.0}\n"
          ]
        },
        {
          "data": {
            "application/vnd.jupyter.widget-view+json": {
              "model_id": "0fb9ce83ffe049cab8c6857f3109a653",
              "version_major": 2,
              "version_minor": 0
            },
            "text/plain": [
              "  0%|          | 0/13 [00:00<?, ?it/s]"
            ]
          },
          "metadata": {},
          "output_type": "display_data"
        },
        {
          "name": "stdout",
          "output_type": "stream",
          "text": [
            "{'eval_loss': 0.3400612771511078, 'eval_accuracy': 0.88, 'eval_precision': 0.6153679653679655, 'eval_recall': 0.5435786435786435, 'eval_f1_score': 0.569681309216193, 'eval_runtime': 0.9894, 'eval_samples_per_second': 101.066, 'eval_steps_per_second': 13.139, 'epoch': 3.0}\n",
            "{'train_runtime': 136.0089, 'train_samples_per_second': 19.852, 'train_steps_per_second': 2.492, 'train_loss': 0.3585879795670861, 'epoch': 3.0}\n"
          ]
        },
        {
          "data": {
            "text/plain": [
              "TrainOutput(global_step=339, training_loss=0.3585879795670861, metrics={'train_runtime': 136.0089, 'train_samples_per_second': 19.852, 'train_steps_per_second': 2.492, 'train_loss': 0.3585879795670861, 'epoch': 3.0})"
            ]
          },
          "execution_count": 42,
          "metadata": {},
          "output_type": "execute_result"
        }
      ],
      "source": [
        "trainer = Trainer(\n",
        "    model=model,\n",
        "    args=training_args,\n",
        "    train_dataset=train_dataset,\n",
        "    eval_dataset=val_dataset,\n",
        "    compute_metrics=compute_metrics,\n",
        ")\n",
        "\n",
        "trainer.train()"
      ]
    },
    {
      "cell_type": "markdown",
      "metadata": {},
      "source": [
        "## Prediction Accuracy"
      ]
    },
    {
      "cell_type": "code",
      "execution_count": 43,
      "metadata": {},
      "outputs": [
        {
          "data": {
            "application/vnd.jupyter.widget-view+json": {
              "model_id": "d66186d8a65c4946b6602de6bb7a5850",
              "version_major": 2,
              "version_minor": 0
            },
            "text/plain": [
              "  0%|          | 0/125 [00:00<?, ?it/s]"
            ]
          },
          "metadata": {},
          "output_type": "display_data"
        },
        {
          "name": "stdout",
          "output_type": "stream",
          "text": [
            "(1000, 3) (1000,)\n",
            "Accuracy: 0.9\n",
            "Macro Precision: 0.6205008601296811\n",
            "Macro Recall: 0.5330246913580247\n",
            "Macro F1 Score: 0.5656383829322795\n"
          ]
        }
      ],
      "source": [
        "predictions = trainer.predict(test_dataset)\n",
        "print(predictions.predictions.shape, predictions.label_ids.shape)\n",
        "\n",
        "eval_metrics = compute_metrics((predictions.predictions, predictions.label_ids))\n",
        "print(\"Accuracy:\", eval_metrics[\"accuracy\"])\n",
        "print(\"Macro Precision:\", eval_metrics[\"precision\"])\n",
        "print(\"Macro Recall:\", eval_metrics[\"recall\"])\n",
        "print(\"Macro F1 Score:\", eval_metrics[\"f1_score\"])"
      ]
    }
  ],
  "metadata": {
    "colab": {
      "provenance": []
    },
    "kernelspec": {
      "display_name": "Python 3",
      "language": "python",
      "name": "python3"
    },
    "language_info": {
      "codemirror_mode": {
        "name": "ipython",
        "version": 3
      },
      "file_extension": ".py",
      "mimetype": "text/x-python",
      "name": "python",
      "nbconvert_exporter": "python",
      "pygments_lexer": "ipython3",
      "version": "3.11.1"
    }
  },
  "nbformat": 4,
  "nbformat_minor": 0
}
